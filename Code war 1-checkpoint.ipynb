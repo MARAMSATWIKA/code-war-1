{
 "cells": [
  {
   "cell_type": "code",
   "execution_count": 10,
   "id": "fc1eb11a",
   "metadata": {},
   "outputs": [
    {
     "name": "stdout",
     "output_type": "stream",
     "text": [
      "Enter a number:153\n",
      "Yes\n"
     ]
    }
   ],
   "source": [
    "def armstrong(num):    #valid for any digit of numbers\n",
    "    stnum=str(num)\n",
    "    sum1=0\n",
    "    if num<0:\n",
    "        return -1\n",
    "    elif num==0:\n",
    "        return 0\n",
    "    else:\n",
    "         for i in range(len(stnum)):\n",
    "            dig=int(stnum[i])\n",
    "            sum1=sum1+(dig**(len(stnum)))\n",
    "    if sum1==num:\n",
    "        print(\"Yes\")\n",
    "    else:\n",
    "        print(\"No\")\n",
    "num=int(input(\"Enter a number:\"))\n",
    "armstrong(num)"
   ]
  },
  {
   "cell_type": "code",
   "execution_count": null,
   "id": "1f9e3561",
   "metadata": {},
   "outputs": [],
   "source": []
  }
 ],
 "metadata": {
  "kernelspec": {
   "display_name": "Python 3 (ipykernel)",
   "language": "python",
   "name": "python3"
  },
  "language_info": {
   "codemirror_mode": {
    "name": "ipython",
    "version": 3
   },
   "file_extension": ".py",
   "mimetype": "text/x-python",
   "name": "python",
   "nbconvert_exporter": "python",
   "pygments_lexer": "ipython3",
   "version": "3.9.7"
  }
 },
 "nbformat": 4,
 "nbformat_minor": 5
}
